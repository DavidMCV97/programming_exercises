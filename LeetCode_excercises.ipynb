{
 "cells": [
  {
   "cell_type": "markdown",
   "id": "0",
   "metadata": {},
   "source": [
    "# LeetCode Excercises"
   ]
  },
  {
   "cell_type": "markdown",
   "id": "1",
   "metadata": {},
   "source": [
    "In this notebook i will show some leetcode excercises, solutions and optimal solution comparsion. The numeration of the excercises corresponds to leetcode order, is not mine."
   ]
  },
  {
   "cell_type": "markdown",
   "id": "2",
   "metadata": {},
   "source": [
    "## 1. Two Sum"
   ]
  },
  {
   "cell_type": "markdown",
   "id": "3",
   "metadata": {},
   "source": [
    "Given an array of integers **nums** and an integer **target**, return indices of the two numbers such that they add up to **target**.\n",
    "<br>\n",
    "You may assume that each input would have exactly one solution, and you may not use the same element twice.\n",
    "You can return the answer in any order. <br>\n",
    "**Type**: Hash Table <br>\n",
    "**Dificulty**: Easy"
   ]
  },
  {
   "cell_type": "code",
   "execution_count": null,
   "id": "4",
   "metadata": {},
   "outputs": [],
   "source": [
    "# my solution\n",
    "\n",
    "# in leetcode, all solutions must be returned as objects with a method for solving the problem.\n",
    "class Solution:\n",
    "    def twoSum(self, nums: list[int], target: int) -> list[int]:\n",
    "        length = len(nums) - 1 # max value for j\n",
    "        i = 0 # first number index\n",
    "        j = 1 # second number index\n",
    "        solved = True if nums[i]+nums[j]==target else False\n",
    "        while not solved:\n",
    "            # we first cross j through values from i+1 to length\n",
    "            if j < length:\n",
    "                j += 1\n",
    "            # we then add 1 to i and restart j\n",
    "            else:\n",
    "                i += 1\n",
    "                j = i + 1\n",
    "            # if solved, stop the loop\n",
    "            solved = nums[i]+nums[j]==target\n",
    "        return [i,j]"
   ]
  },
  {
   "cell_type": "code",
   "execution_count": null,
   "id": "5",
   "metadata": {},
   "outputs": [],
   "source": [
    "# my solution test\n",
    "nums = [3,2,4]\n",
    "target = 6\n",
    "solution = Solution()\n",
    "solution.twoSum(nums,target)"
   ]
  },
  {
   "cell_type": "markdown",
   "id": "6",
   "metadata": {},
   "source": [
    "Mi solution has time complexity of **O(n^2)** because, in the worst case scenario, we check all posible pairs of elements (n*n)\n",
    "and eliminate half of them by simetry, but O((n^2)/2) = O(n^2). <br>\n",
    "Optimal solution consists in saving all already checked elements with their location.\n",
    "This uses a type of data storing called **Hash Map** that is dictionaries in python. <br>\n",
    "For this problem we will store how much is missing to achieve target for each element. If the new element is equal to the missing part, we're done."
   ]
  },
  {
   "cell_type": "code",
   "execution_count": null,
   "id": "7",
   "metadata": {},
   "outputs": [],
   "source": [
    "# optimal solution\n",
    "\n",
    "class Solution:\n",
    "    def twoSum(self, nums: list[int], target: int) -> list[int]:\n",
    "        loc_elem = {} # location of already checked numbers\n",
    "        for idx, elem in enumerate(nums): # enumerate returns [index,element] from a list\n",
    "            if target - elem in loc_elem: # (target - element) let us know how much is missing to achive target.\n",
    "                return [idx, loc_elem[target - elem]] # if the element is in list, we are done. \n",
    "            loc_elem[elem] = idx # else, we save the new element with its index in the dictionary."
   ]
  },
  {
   "cell_type": "code",
   "execution_count": null,
   "id": "8",
   "metadata": {},
   "outputs": [],
   "source": [
    "# optimal solution test\n",
    "nums = [3,2,4]\n",
    "target = 6\n",
    "solution = Solution()\n",
    "solution.twoSum(nums,target)"
   ]
  },
  {
   "cell_type": "markdown",
   "id": "9",
   "metadata": {},
   "source": [
    "This solution has time complexity of O(n) because of how hash maps work. When you search for an element in a hash map, it doesn't \n",
    "check every entrance, instead it looks for a specific code (usualy called hash) unique for each value. This reduces the work of searching in a dictionary from O(n) to O(1). Then, when we search for the pair that sums for target, in the worst case scenario we searched all elements once (n processes) and do a hash search once in each round, with a constant value of k processes each round. then we got <br> O(n+n*k) = O(n(k+1)) = O(n)."
   ]
  },
  {
   "cell_type": "markdown",
   "id": "10",
   "metadata": {},
   "source": [
    "## 2. add two numbers"
   ]
  },
  {
   "cell_type": "markdown",
   "id": "11",
   "metadata": {},
   "source": [
    "You are given two non-empty linked lists representing two non-negative integers. \n",
    "The digits are stored in reverse order, and each of their nodes contains a single digit. \n",
    "Add the two numbers and return the sum as a linked list. <br>\n",
    "You may assume the two numbers do not contain any leading zero, except the number 0 itself. <br>\n",
    "**Example**: [2,4,3] is 342, [5,6,4] is 465, the sum is 342+465=807 so you have to return [7,0,8].\n",
    "\n",
    "**Type**: Linked List<br>\n",
    "**Dificulty**: Medium"
   ]
  },
  {
   "cell_type": "code",
   "execution_count": null,
   "id": "12",
   "metadata": {},
   "outputs": [],
   "source": [
    "# my solution\n",
    "\n",
    "class Solution:\n",
    "    def addTwoNumbers(self, l1:list, l2:list) -> list:\n",
    "        n1 = sum([l1[i]*10**i for i in range(len(l1))]) # we transform the list into number\n",
    "        n2 = sum([l2[i]*10**i for i in range(len(l2))]) # same\n",
    "        suma = n1+n2\n",
    "        res = []\n",
    "        while suma > 0: # now we transform the sum into list\n",
    "            digit = int(suma%10)\n",
    "            res.extend([digit])\n",
    "            suma = (suma-digit)/10\n",
    "        return res"
   ]
  },
  {
   "cell_type": "code",
   "execution_count": null,
   "id": "13",
   "metadata": {},
   "outputs": [],
   "source": [
    "# testing my solution\n",
    "l1 = [2,4,3]\n",
    "l2 = [5,6,4]\n",
    "sol = Solution()\n",
    "sol.addTwoNumbers(l1,l2)"
   ]
  },
  {
   "cell_type": "markdown",
   "id": "14",
   "metadata": {},
   "source": [
    "I build my solution by force.\n",
    "But even that way it didnt propperly work, as it was supposed to have a linked list as imput and a linked list as output. <br>\n",
    "A linked list is a storage form in which you have n objects, each pointing to the next one.\n",
    "It has an intresting property, if you start a list with an object A and then do B=A and then modify B succesive values, A will be also modified.\n",
    "This property is used to build the solution with a dummy that will be defining next elements. <br>\n",
    "Another important detail is that, when the list is finished, the next element is a none object."
   ]
  },
  {
   "cell_type": "code",
   "execution_count": null,
   "id": "15",
   "metadata": {},
   "outputs": [],
   "source": [
    "# optimal solution\n",
    "\n",
    "# this class defines the node list\n",
    "class ListNode:\n",
    "    def __init__(self, val=0, next=None):\n",
    "        self.val = val\n",
    "        self.next = next\n",
    "\n",
    "class Solution:\n",
    "    def addTwoNumbers(self, l1:ListNode,l2:ListNode) -> ListNode:\n",
    "        residual = 0\n",
    "        head = ListNode()\n",
    "        dummy = head\n",
    "        while l1 or l2 or residual:\n",
    "            num1 = l1.val if l1 else 0\n",
    "            num2 = l2.val if l2 else 0\n",
    "            add = num1+num2+residual\n",
    "            answer = add%10\n",
    "            dummy.next = ListNode(answer)\n",
    "            dummy = dummy.next\n",
    "            residual = int((add - answer)/10)\n",
    "            l1 = l1.next if l1 else None\n",
    "            l2 = l2.next if l2 else None\n",
    "        return head.next"
   ]
  },
  {
   "cell_type": "markdown",
   "id": "16",
   "metadata": {},
   "source": [
    "Notice that the testing requires a way to transform lists to linked lists\n",
    "and a way to print the resulting linked list."
   ]
  },
  {
   "cell_type": "code",
   "execution_count": null,
   "id": "17",
   "metadata": {},
   "outputs": [],
   "source": [
    "# testing optimal solution\n",
    "l1 = [9,9,9]\n",
    "l2 = [9,9,9]\n",
    "\n",
    "def list_to_listnode(lst):\n",
    "        if not lst:\n",
    "            return None\n",
    "        head = ListNode(lst[-1])\n",
    "        current = head\n",
    "        for val in reversed(lst[:-1]):\n",
    "            current.next = ListNode(val)\n",
    "            current = current.next\n",
    "        return head\n",
    "l1 = list_to_listnode(l1)\n",
    "l2 = list_to_listnode(l2)\n",
    "solution = Solution()\n",
    "head = solution.addTwoNumbers(l1,l2)\n",
    "while head:\n",
    "    print(head.val, end=\" -> \")\n",
    "    head = head.next\n",
    "print(\"None\")"
   ]
  },
  {
   "cell_type": "markdown",
   "id": "18",
   "metadata": {},
   "source": [
    "This solution has a complexity of O(max(n,m))."
   ]
  },
  {
   "cell_type": "markdown",
   "id": "19",
   "metadata": {},
   "source": [
    "## 3. Longest Substring Without Repeating Characters"
   ]
  },
  {
   "cell_type": "markdown",
   "id": "20",
   "metadata": {},
   "source": [
    "Given a string **s**, find the length of the longest **substring** without duplicate characters.\n",
    "\n",
    "**Type**: Sliding Window <br>\n",
    "**Dificulty**: Medium"
   ]
  },
  {
   "cell_type": "code",
   "execution_count": null,
   "id": "21",
   "metadata": {},
   "outputs": [],
   "source": [
    "# I couldnt get a solution, so lets go directly to optimal solution\n",
    "\n",
    "class Solution:\n",
    "    def lengthOfLongestSubstring(self, s: str) -> int:\n",
    "        left = max_length = 0\n",
    "        char_set = set()\n",
    "        \n",
    "        for right in range(len(s)):\n",
    "            while s[right] in char_set:\n",
    "                char_set.remove(s[left])\n",
    "                left += 1\n",
    "\n",
    "            char_set.add(s[right])\n",
    "            max_length = max(max_length, right - left + 1)\n",
    "        \n",
    "        return max_length"
   ]
  },
  {
   "cell_type": "code",
   "execution_count": null,
   "id": "22",
   "metadata": {},
   "outputs": [],
   "source": [
    "s = 'letter exaple'\n",
    "sol = Solution()\n",
    "sol.lengthOfLongestSubstring(s)"
   ]
  },
  {
   "cell_type": "markdown",
   "id": "23",
   "metadata": {},
   "source": [
    "This solution has a simple process:\n",
    "- create an empty list for the letters\n",
    "- for each letter, add it if its not in the list already\n",
    "- if the letter is in the list, eliminate its last ocurrence with all the elements of the list before it.\n",
    "- count for the biggest size of the list\n",
    "\n",
    "(I had a simmilar idea of how to solve it, but couldnt get it in practice... jijijijiji) <br>\n",
    "As we check each letter just once and eliminate it once if at all, then the time complexity is O(2n) = O(n). The space complexity is O(1) as there are a fixed number of letters in the alphabet, so char_set has a limmit."
   ]
  },
  {
   "cell_type": "markdown",
   "id": "24",
   "metadata": {},
   "source": [
    "## 12. Integer to Roman"
   ]
  },
  {
   "cell_type": "markdown",
   "id": "25",
   "metadata": {},
   "source": [
    "Given an integer, convert it to a Roman numeral.\n",
    "\n",
    "**Type**: Hash Table <br>\n",
    "**Dificulty**: Medium"
   ]
  },
  {
   "cell_type": "code",
   "execution_count": null,
   "id": "26",
   "metadata": {},
   "outputs": [],
   "source": [
    "# my solution\n",
    "\n",
    "class Solution:\n",
    "    def intToRoman(self, num: int) -> str:\n",
    "        ans = '' # here we save the answer\n",
    "        code = {1000:'M',500:'D',100:'C',50:'L',10:'X',5:'V',1:'I'} # respective letter for different values\n",
    "        residual = num # auxiliar of what still neds to be transformed to roman\n",
    "\n",
    "        # we will start by adding M for all 1000's\n",
    "        if residual >= 1000:\n",
    "            digit = int((residual-residual%100)/1000)\n",
    "            ans = 'M'*digit\n",
    "            residual -= digit*1000\n",
    "\n",
    "        # while we still residual\n",
    "        while residual > 0:\n",
    "            pot10 = max([x for x in [1,10,100] if x<=residual]) # helps us locate the letter\n",
    "            digit = int((residual - residual%pot10)/pot10) # helps us locate the letter\n",
    "            if digit == 4:\n",
    "                ans += code[pot10] + code[pot10*5]\n",
    "                residual -= digit*pot10\n",
    "            elif digit == 9:\n",
    "                ans += code[pot10] + code[pot10*10]\n",
    "                residual -= digit*pot10\n",
    "            elif digit >= 5:\n",
    "                ans += code[pot10*5]\n",
    "                residual -= 5*pot10\n",
    "            else:\n",
    "                ans += code[pot10]*digit\n",
    "                residual -= digit*pot10\n",
    "        return ans"
   ]
  },
  {
   "cell_type": "code",
   "execution_count": null,
   "id": "27",
   "metadata": {},
   "outputs": [],
   "source": [
    "# testing my solution\n",
    "num = 1234\n",
    "sol = Solution()\n",
    "sol.intToRoman(num)"
   ]
  },
  {
   "cell_type": "markdown",
   "id": "28",
   "metadata": {},
   "source": [
    "My solution has a lot of if statements, which makes it suboptimal. It still has complexity of O(1), as it has only one value for entry. Optimal solution isnt much better, it takes just a longer list of elements to avoid the ifs. Another help is the // command, which returns the integer part of a division."
   ]
  },
  {
   "cell_type": "code",
   "execution_count": null,
   "id": "29",
   "metadata": {},
   "outputs": [],
   "source": [
    "# optimal solution\n",
    "\n",
    "class Solution:\n",
    "    def intToRoman(self, num: int) -> str:\n",
    "        # list of posible outcomes and its value\n",
    "        value_symbols = [(1000, 'M'), (900, 'CM'), (500, 'D'), (400, 'CD'),\n",
    "                         (100, 'C'), (90, 'XC'), (50, 'L'), (40, 'XL'), (10, 'X'),\n",
    "                         (9, 'IX'), (5, 'V'), (4, 'IV'), (1, 'I')]\n",
    "        # result\n",
    "        res = ''\n",
    "\n",
    "        # to check through the list\n",
    "        n = 0\n",
    "\n",
    "        # while we still have something left\n",
    "        while num > 0:\n",
    "            value, symbol = value_symbols[n]\n",
    "            count = num // value # how many times the new symbol value fits inside num\n",
    "            res += symbol*count # we append the symbol times the number of times it fits\n",
    "            num -= count*value # we substract what we already sum\n",
    "            n += 1 # ready to the next pair of values!\n",
    "        return res"
   ]
  },
  {
   "cell_type": "code",
   "execution_count": null,
   "id": "30",
   "metadata": {},
   "outputs": [],
   "source": [
    "# testing optimal solution\n",
    "num = 900\n",
    "sol = Solution()\n",
    "sol.intToRoman(num)"
   ]
  },
  {
   "cell_type": "markdown",
   "id": "31",
   "metadata": {},
   "source": [
    "Another important detail of the optimal solution is the order of the elements. \n",
    "If V where before X, then 10 will be written as VV, not as X. <br>\n",
    "Optimal solution has time complexity of O(1)."
   ]
  },
  {
   "cell_type": "code",
   "execution_count": null,
   "id": "32",
   "metadata": {},
   "outputs": [],
   "source": []
  }
 ],
 "metadata": {
  "kernelspec": {
   "display_name": "Python 3 (ipykernel)",
   "language": "python",
   "name": "python3"
  },
  "language_info": {
   "codemirror_mode": {
    "name": "ipython",
    "version": 3
   },
   "file_extension": ".py",
   "mimetype": "text/x-python",
   "name": "python",
   "nbconvert_exporter": "python",
   "pygments_lexer": "ipython3",
   "version": "3.13.1"
  }
 },
 "nbformat": 4,
 "nbformat_minor": 5
}
